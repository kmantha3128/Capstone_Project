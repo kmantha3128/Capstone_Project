{
    "cells": [
        {
            "cell_type": "markdown",
            "metadata": {
                "collapsed": true
            },
            "source": "**Introduction: Business Problem\n\nIn this project  will try to find an optimal location for a restaurant. Specifically, this report will be targeted to stakeholders interested in opening an Indian restaurant in New York city.\n\nSince there are lots of restaurants in New york I will try to detect locations that are not already crowded with restaurants. Also particularly interested in areas with no Indian restaurants in vicinity. We would also prefer locations as close to city center as possible, assuming that first two conditions are met."
        },
        {
            "cell_type": "markdown",
            "metadata": {},
            "source": "**Data\n\nBased on definition of the problem, factors that will influence our decission are:\nnumber of existing restaurants in the neighborhood (any type of restaurant)\nnumber of and distance to Italian restaurants in the neighborhood, if any\ndistance of neighborhood from city center\n\nWe decided to use regularly spaced grid of locations, centered around city center, to define the neighborhoods.\n\nFollowing data sources will be needed to extract/generate the required information:\n\ncenters of candidate areas will be generated algorithmically and approximate addresses of centers of those areas will be obtained using Google Maps API reverse geocoding\n\nnumber of restaurants and their type and location in every neighborhood will be obtained using Foursquare API\n\ncoordinate of New York City center can be obtained from the data shared in the course"
        }
    ],
    "metadata": {
        "kernelspec": {
            "display_name": "Python 3.6",
            "language": "python",
            "name": "python3"
        },
        "language_info": {
            "codemirror_mode": {
                "name": "ipython",
                "version": 3
            },
            "file_extension": ".py",
            "mimetype": "text/x-python",
            "name": "python",
            "nbconvert_exporter": "python",
            "pygments_lexer": "ipython3",
            "version": "3.6.8"
        }
    },
    "nbformat": 4,
    "nbformat_minor": 1
}